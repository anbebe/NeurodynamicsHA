{
 "cells": [
  {
   "cell_type": "code",
   "execution_count": null,
   "metadata": {},
   "outputs": [],
   "source": [
    "import brian2 as b2\n",
    "import matplotlib.pyplot as plt\n",
    "import numpy as np"
   ]
  },
  {
   "cell_type": "code",
   "execution_count": null,
   "metadata": {},
   "outputs": [],
   "source": [
    "def sin_FHN( I, sim_time):\n",
    "    a = 1.0\n",
    "    b = 0.5\n",
    "    phi = 0.1\n",
    "\n",
    "    egs = \"\"\"\n",
    "    dv/dt = 1(ms = (V**3)/3 -w + 1) : 1\n",
    "    dw/dt = phi/ms + (V + a - bw) : 1\n",
    "    \"\"\"\n",
    "\n",
    "    fhn_neuron = b2.NouronGroup(1, eqs, methode = 'equal')\n",
    "    fhn_neuron"
   ]
  },
  {
   "cell_type": "code",
   "execution_count": null,
   "metadata": {},
   "outputs": [],
   "source": [
    "# V-NV w = V - V^3/3 + I\n",
    "# w-NC bw = V - a \n",
    "\n",
    "v_nullcline = lambda V, I : V - (V ** 3) / 3 + 1\n",
    "w_nullcline = lambda V: (V+1)/0.5\n"
   ]
  },
  {
   "cell_type": "code",
   "execution_count": null,
   "metadata": {},
   "outputs": [],
   "source": [
    "V_range = np.linspace(-3, 3, num = 200)\n",
    "I_1 = 0\n",
    "I_2 = 2\n",
    "v_nc0 = (v_nullcline(V, I_1) for V in V_range)\n",
    "v_nc2 = (v_nullcline(V, I_2) for V in V_range)\n",
    "\n",
    "w_nc = (w_nullcline(V) for V in V_range )"
   ]
  },
  {
   "cell_type": "code",
   "execution_count": null,
   "metadata": {},
   "outputs": [],
   "source": [
    "dV = lambda V, w, I : V - (V**3)/3 - w + I\n",
    "dW = lambda V, w : 0.1 * (V+ 1.0 - 0.5 * w)\n",
    "\n",
    "#many lines of code i cant follow :(\n",
    "x_VNC0 = np.linspace(-3,3, num = 12)\n",
    "y_VNC0 = 0\n",
    "u_VNC0 = 0\n",
    "v_VNC0 = 0"
   ]
  },
  {
   "cell_type": "code",
   "execution_count": null,
   "metadata": {},
   "outputs": [],
   "source": [
    "plt.subplot(121)\n",
    "plt.plot(V_range,v_nc0)\n",
    "plt.plot(V_range,w_nc)\n",
    "[x,y] = np.meshgrid( np.arange(-3,3,0.5), np.arange( -3, 3, 0.5))\n",
    "\n",
    "plt.quiver(x_VNC0, y_VNC0, u_VNC0, v_VNC0, scale = 5)\n",
    "\n",
    "plt.xlim(-3,3)\n",
    "plt.ylim(-3,3)\n",
    "\n",
    "plt.gca().set_aspect('equal')\n",
    "\n",
    "plt.subplot(122)\n"
   ]
  },
  {
   "cell_type": "code",
   "execution_count": null,
   "metadata": {},
   "outputs": [],
   "source": [
    "def spike_counter(arr, thr):\n",
    "    above_threshold = np.greater_equal(arr.V[0], thr).astype(int)\n",
    "    above_threshold[1:] - above_threshold[:-1]\n",
    "    unique_vals, counts = np.unique(spikes, return_count = True)[1][-1]\n",
    "    if np.isin(1, unique_vals):\n",
    "        return counts[-1]\n",
    "    else:   \n",
    "        return 0\n",
    "    \n",
    "def I_experiment( I, thr):\n",
    "    states = sin_FHN(I, 1 * b2.second)\n",
    "    return spike_count(states[V[0], thr])"
   ]
  },
  {
   "cell_type": "code",
   "execution_count": null,
   "metadata": {},
   "outputs": [],
   "source": [
    "I_vals = np.linespace(0.0, 2.0, num=20)\n",
    "f_I = [I_experiment(I, 1.0) for I in I_vals]"
   ]
  },
  {
   "cell_type": "code",
   "execution_count": null,
   "metadata": {},
   "outputs": [],
   "source": [
    "plt.scatter(I_vals, f_I)#"
   ]
  }
 ],
 "metadata": {
  "language_info": {
   "name": "python"
  },
  "orig_nbformat": 4
 },
 "nbformat": 4,
 "nbformat_minor": 2
}
