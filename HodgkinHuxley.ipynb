{
 "cells": [
  {
   "cell_type": "code",
   "execution_count": 1,
   "metadata": {},
   "outputs": [],
   "source": [
    "from brian2 import *\n",
    "from scipy import stats\n",
    "import matplotlib.pyplot  as plt\n",
    "import numpy as np"
   ]
  },
  {
   "cell_type": "code",
   "execution_count": 2,
   "metadata": {},
   "outputs": [],
   "source": [
    "%matplotlib inline"
   ]
  },
  {
   "cell_type": "code",
   "execution_count": 74,
   "metadata": {},
   "outputs": [],
   "source": [
    "def sim_hh(input_current, sim_time):\n",
    "    E_L = 10.6*mV\n",
    "    E_K = -12 * mV\n",
    "    E_Na = 120 * mV\n",
    "    g_L = 0.3 * msiemens\n",
    "    g_K = 36* msiemens\n",
    "    g_Na = 120 * msiemens\n",
    "\n",
    "    C = 1 * ufarad\n",
    "\n",
    "\n",
    "    eqs = \"\"\"\n",
    "    alpha_n = 0.01 * (10*mV - V) / (exp( (10*mV - V)/(10*mV)) - 1)/mV/ms :Hz\n",
    "    alpha_m = 0.01 * (25*mV - V) / (exp( (25*mV - V)/(10*mV)) - 1)/mV/ms :Hz\n",
    "    alpha_h = 0.07 * exp(-V/(20*mV))/ms     :Hz\n",
    "\n",
    "    beta_n = 0.125 * exp(-V/(80*mV))/ms : Hz\n",
    "    beta_m = 4.0 * exp(-V/(18*mV))/ms : Hz\n",
    "    beta_h =  1 / (exp ((30*mV-V)/(10*mV)) + 1) /ms         :Hz    \n",
    "\n",
    "    tau_n =  1 / (alpha_n + beta_n) : 1/Hz\n",
    "    tau_m =  1 / (alpha_m + beta_m) : 1/Hz\n",
    "    tau_h =  1 / (alpha_h + beta_h) : 1/Hz\n",
    "\n",
    "    n_inf = alpha_n/ (alpha_n + beta_n) : 1\n",
    "    m_inf = alpha_m/ (alpha_m + beta_m) : 1\n",
    "    h_inf = alpha_h/ (alpha_h + beta_h) : 1\n",
    "    \n",
    "    I_e = input_current(t)                                              :amp\n",
    "    I_m = I_e - g_Na*m**3*h*(E_Na-V) + g_L*(E_L-V) + g_K*n**4*(E_K-V)   :amp\n",
    "    dV/dt = I_m/C                                                       :volt\n",
    "    dn/dt = -1/tau_n * (n-n_inf) : 1\n",
    "    dm/dt = -1/tau_m * (m-m_inf) : 1\n",
    "    dh/dt = -1/tau_h * (h-h_inf) : 1\n",
    "    \"\"\"\n",
    "\n",
    "    hh_neuron = NeuronGroup(1, eqs, method=\"exponential_euler\")\n",
    "\n",
    "    # initial values\n",
    "    hh_neuron.V = 0\n",
    "    hh_neuron.m = 0.05\n",
    "    hh_neuron.h = 0.60\n",
    "    hh_neuron.n = 0.32\n",
    "\n",
    "    state_monitor = StateMonitor(hh_neuron, [\"V\", \"I_e\",\"m\",\"n\",\"h\"], record=True)\n",
    "\n",
    "    hh_net = Network(hh_neuron)\n",
    "    hh_net.add(state_monitor)\n",
    "    hh_net.run(sim_time)\n",
    "\n",
    "    return state_monitor\n"
   ]
  },
  {
   "cell_type": "code",
   "execution_count": 100,
   "metadata": {},
   "outputs": [],
   "source": [
    "def sim_hh(input_current, sim_time):\n",
    "    E_L = 10.6*mV\n",
    "    E_K = -12 * mV\n",
    "    E_Na = 120 * mV\n",
    "    g_L = 0.3 * msiemens\n",
    "    g_K = 36* msiemens\n",
    "    g_Na = 120 * msiemens\n",
    "\n",
    "    C = 1 * ufarad\n",
    "\n",
    "\n",
    "    eqs = \"\"\"\n",
    "    alpha_n = 0.01 * (10*mV - v) / (exp( (10*mV - v)/(10*mV)) - 1)/mV/ms :Hz\n",
    "    alpha_m = 0.01 * (25*mV - v) / (exp( (25*mV - v)/(10*mV)) - 1)/mV/ms :Hz\n",
    "    alpha_h = 0.07 * exp(-v/(20*mV))/ms     :Hz\n",
    "\n",
    "    beta_n = 0.125 * exp(-v/(80*mV))/ms : Hz\n",
    "    beta_m = 4.0 * exp(-v/(18*mV))/ms : Hz\n",
    "    beta_h =  1 / (exp ((30*mV-v)/(10*mV)) + 1) /ms         :Hz    \n",
    "    \n",
    "    I_e = input_current(t)                                              :amp\n",
    "    I_m = I_e + g_Na*m**3*h*(E_Na-v) + g_L*(E_L-v) + g_K*n**4*(E_K-v)   :amp\n",
    "    dv/dt = I_m/C                                                       :volt\n",
    "    dn/dt = alpha_n * (1-n) - beta_n*n : 1\n",
    "    dm/dt = alpha_m * (1-m) - beta_m*m : 1\n",
    "    dh/dt = alpha_h * (1-h) - beta_h*h : 1\n",
    "    \"\"\"\n",
    "\n",
    "    hh_neuron = NeuronGroup(1, eqs, method=\"exponential_euler\")\n",
    "\n",
    "    # initial values\n",
    "    hh_neuron.v = 0\n",
    "    hh_neuron.m = 0.05\n",
    "    hh_neuron.h = 0.60\n",
    "    hh_neuron.n = 0.32\n",
    "\n",
    "    state_monitor = StateMonitor(hh_neuron, [\"v\", \"I_e\",\"m\",\"n\",\"h\"], record=True)\n",
    "\n",
    "    hh_net = Network(hh_neuron)\n",
    "    hh_net.add(state_monitor)\n",
    "    hh_net.run(sim_time)\n",
    "\n",
    "    return state_monitor\n"
   ]
  },
  {
   "cell_type": "code",
   "execution_count": 44,
   "metadata": {},
   "outputs": [],
   "source": [
    "# build a step current function\n",
    "t_start = 10\n",
    "t_end = 40\n",
    "pulse_amp = 7.2 * uA # amplitude\n",
    "timing_array = np.zeros((t_end+2,)) * amp\n",
    "timing_array[t_start:t_end+1] = pulse_amp\n",
    "step_current = TimedArray(timing_array, dt=1.*ms)"
   ]
  },
  {
   "cell_type": "code",
   "execution_count": 101,
   "metadata": {},
   "outputs": [],
   "source": [
    "states = sim_hh(step_current, 30*ms)"
   ]
  },
  {
   "cell_type": "code",
   "execution_count": 102,
   "metadata": {},
   "outputs": [
    {
     "data": {
      "image/png": "[encoded data removed]",
      "text/plain": [
       "<Figure size 640x480 with 3 Axes>"
      ]
     },
     "metadata": {},
     "output_type": "display_data"
    }
   ],
   "source": [
    "fig, axs = plt.subplots(3, 1)\n",
    "axs[0].plot(states.t / ms, states.n[0], states.t / ms, states.m[0], states.t / ms, states.h[0])\n",
    "axs[0].set_xlabel('Time')\n",
    "axs[0].set_ylabel('n, m, h')\n",
    "axs[0].grid(True)\n",
    "\n",
    "axs[1].plot(states.t / ms, states.v[0]/ mV)\n",
    "axs[1].set_ylabel('currence')\n",
    "\n",
    "axs[2].plot(states.t / ms, states.I_e[0]/ amp)\n",
    "axs[2].set_ylabel('input')\n",
    "\n",
    "fig.tight_layout()\n",
    "plt.show()"
   ]
  }
 ],
 "metadata": {
  "kernelspec": {
   "display_name": "neurodynamics",
   "language": "python",
   "name": "python3"
  },
  "language_info": {
   "codemirror_mode": {
    "name": "ipython",
    "version": 3
   },
   "file_extension": ".py",
   "mimetype": "text/x-python",
   "name": "python",
   "nbconvert_exporter": "python",
   "pygments_lexer": "ipython3",
   "version": "3.11.3"
  },
  "orig_nbformat": 4
 },
 "nbformat": 4,
 "nbformat_minor": 2
}
