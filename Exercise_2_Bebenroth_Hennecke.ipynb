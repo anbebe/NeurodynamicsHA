{
 "cells": [
  {
   "attachments": {},
   "cell_type": "markdown",
   "metadata": {},
   "source": [
    "Annalena Bebenroth (999523) und Maluna Hennecke (1007701)"
   ]
  },
  {
   "cell_type": "code",
   "execution_count": 1,
   "metadata": {},
   "outputs": [],
   "source": [
    "from brian2 import *\n",
    "from scipy import stats\n",
    "import matplotlib.pyplot  as plt\n",
    "import numpy as np"
   ]
  },
  {
   "cell_type": "code",
   "execution_count": 2,
   "metadata": {},
   "outputs": [],
   "source": [
    "%matplotlib inline"
   ]
  },
  {
   "cell_type": "code",
   "execution_count": null,
   "metadata": {},
   "outputs": [],
   "source": [
    "def neuron_fct(I, refrac, sim_time): \n",
    "    # Leaky-Integrate-And-Fire\n",
    "    V_r = -70 * mV\n",
    "    g_l = 0.1 * usiemens\n",
    "    V_t = -50 * mV\n",
    "    tau = 20.0 * ms\n",
    "    I = 5.0 * nA\n",
    "    refrac = 3.0 * ms\n",
    "\n",
    "    eqs = \"\"\"\n",
    "    dV/dt = 1/tau * (-(V - V_r) + (1/g_l) * I) : volt\n",
    "    \"\"\"\n",
    "\n",
    "    LIF_neuron = NeuronGroup(1, eqs, threshold=\"V > V_t\", reset = \"V=V_r\", refractory=refrac, method=\"exponential_euler\")\n",
    "\n",
    "    state_monitor = StateMonitor(LIF_neuron, [\"V\"], record=True)\n",
    "    spike_monitor = SpikeMonitor(LIF_neuron)\n",
    "\n",
    "    LIF_neuron.V = -70 *mV\n",
    "\n",
    "    LF_net = Network(LIF_neuron)\n",
    "    LF_net.add(state_monitor)\n",
    "    LF_net.add(spike_monitor)\n",
    "\n",
    "    LF_net.run(sim_time)\n",
    "    return state_monitor, spike_monitor"
   ]
  },
  {
   "cell_type": "code",
   "execution_count": null,
   "metadata": {},
   "outputs": [],
   "source": [
    "neuron_fct(sim_time=30*ms)"
   ]
  },
  {
   "cell_type": "code",
   "execution_count": null,
   "metadata": {},
   "outputs": [],
   "source": [
    "plt.plot(state_monitor.t/ms, states.V[0]/msiemens)\n",
    "# plt.vlines"
   ]
  },
  {
   "cell_type": "code",
   "execution_count": null,
   "metadata": {},
   "outputs": [],
   "source": [
    "def f_I(I, refrac):\n",
    "    _, spike = neuron_fct(I, refrac, 1* second)\n",
    "    return len(spikes)\n",
    "#current*namp\n",
    "x_currents = np.linspace(0.0,20.0, num=50)\n",
    "# 4.0 = refractory period\n",
    "frequency = [f_I(current *namp, 4.0*ms) afor current in x_current]\n",
    "# plot current against frequency"
   ]
  },
  {
   "cell_type": "code",
   "execution_count": null,
   "metadata": {},
   "outputs": [],
   "source": [
    "# amount of spikes : spike_monitor.t"
   ]
  },
  {
   "cell_type": "code",
   "execution_count": null,
   "metadata": {},
   "outputs": [],
   "source": [
    "# second part\n",
    "#make as fct\n",
    "refrac = 3.0 *ms\n",
    "input_rate = 20.0 * Hz\n",
    "sim_time = 25.0 * ms\n",
    "\n",
    "E_l =  -70 *mV\n",
    "E_s = 10.0 * mV\n",
    "g_l  = 3.0 * msiemens\n",
    "\n",
    "tau_m = 20.0 * ms\n",
    "tau_s = 5.0* ms\n",
    "\n",
    "poisson_input = PoissonGroup(10, np.arange(10) * Hz + input_rate)\n",
    "\n",
    "eqs = \"\"\"\n",
    "dV/dt = 1/tau_m * (-(V-E_l) - (g_s/g_l) * (V-E_s)) : volt\n",
    "dg_s/dt = -1/tau_s * g_s :siemens\n",
    "\"\"\"\n",
    "\n",
    "LIF_neuron = NeuronGroup(1, eqs, threshold=\"V > V_t\", reset = \"V=E_l\", refractory=refrac, method=\"exponential_euler\")\n",
    "\n",
    "# set V\n",
    "\n",
    "conductance_synapses = Synapses(poisson_input, LIF_neuron, on_pre='g_s += 0.6*msiemens')\n",
    "conductance_synapses.connect()\n",
    "\n",
    "state_monitor = StateMonitor(LIF_neuron, [\"V\"], record=True)\n",
    "spike_monitor = SpikeMonitor(LIF_neuron)\n",
    "\n",
    "LIF_neuron.V = -70 *mV\n",
    "\n",
    "LF_net = Network(LIF_neuron)\n",
    "LF_net.add(conductance_synapses)\n",
    "LF_net.add(poisson_input)\n",
    "LF_net.add(state_monitor)\n",
    "LF_net.add(spike_monitor)\n",
    "\n",
    "LF_net.run(sim_time)"
   ]
  },
  {
   "cell_type": "code",
   "execution_count": null,
   "metadata": {},
   "outputs": [],
   "source": [
    "# same as f_I but vary Hz"
   ]
  }
 ],
 "metadata": {
  "kernelspec": {
   "display_name": "neurodynamics",
   "language": "python",
   "name": "python3"
  },
  "language_info": {
   "codemirror_mode": {
    "name": "ipython",
    "version": 3
   },
   "file_extension": ".py",
   "mimetype": "text/x-python",
   "name": "python",
   "nbconvert_exporter": "python",
   "pygments_lexer": "ipython3",
   "version": "3.11.3"
  },
  "orig_nbformat": 4
 },
 "nbformat": 4,
 "nbformat_minor": 2
}
